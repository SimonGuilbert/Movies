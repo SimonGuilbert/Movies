{
 "cells": [
  {
   "cell_type": "code",
   "execution_count": 1,
   "metadata": {},
   "outputs": [],
   "source": [
    "import pandas as pd\n",
    "import matplotlib.pyplot as plt\n",
    "import random\n"
   ]
  },
  {
   "cell_type": "code",
   "execution_count": 2,
   "metadata": {},
   "outputs": [],
   "source": [
    "ratings = pd.read_csv(\"ratings.csv\")"
   ]
  },
  {
   "cell_type": "code",
   "execution_count": 3,
   "metadata": {},
   "outputs": [
    {
     "data": {
      "text/plain": [
       "(27753444, 4)"
      ]
     },
     "execution_count": 3,
     "metadata": {},
     "output_type": "execute_result"
    }
   ],
   "source": [
    "ratings.shape"
   ]
  },
  {
   "cell_type": "code",
   "execution_count": 4,
   "metadata": {},
   "outputs": [
    {
     "data": {
      "text/html": [
       "<div>\n",
       "<style scoped>\n",
       "    .dataframe tbody tr th:only-of-type {\n",
       "        vertical-align: middle;\n",
       "    }\n",
       "\n",
       "    .dataframe tbody tr th {\n",
       "        vertical-align: top;\n",
       "    }\n",
       "\n",
       "    .dataframe thead th {\n",
       "        text-align: right;\n",
       "    }\n",
       "</style>\n",
       "<table border=\"1\" class=\"dataframe\">\n",
       "  <thead>\n",
       "    <tr style=\"text-align: right;\">\n",
       "      <th></th>\n",
       "      <th>userId</th>\n",
       "      <th>movieId</th>\n",
       "      <th>rating</th>\n",
       "    </tr>\n",
       "  </thead>\n",
       "  <tbody>\n",
       "    <tr>\n",
       "      <td>0</td>\n",
       "      <td>1</td>\n",
       "      <td>307</td>\n",
       "      <td>3.5</td>\n",
       "    </tr>\n",
       "    <tr>\n",
       "      <td>1</td>\n",
       "      <td>1</td>\n",
       "      <td>481</td>\n",
       "      <td>3.5</td>\n",
       "    </tr>\n",
       "    <tr>\n",
       "      <td>2</td>\n",
       "      <td>1</td>\n",
       "      <td>1091</td>\n",
       "      <td>1.5</td>\n",
       "    </tr>\n",
       "  </tbody>\n",
       "</table>\n",
       "</div>"
      ],
      "text/plain": [
       "   userId  movieId  rating\n",
       "0       1      307     3.5\n",
       "1       1      481     3.5\n",
       "2       1     1091     1.5"
      ]
     },
     "execution_count": 4,
     "metadata": {},
     "output_type": "execute_result"
    }
   ],
   "source": [
    "ratings.iloc[:, 0:3].head(3) # Premieres lignes du fichier"
   ]
  },
  {
   "cell_type": "code",
   "execution_count": 5,
   "metadata": {},
   "outputs": [
    {
     "data": {
      "text/plain": [
       "3.5"
      ]
     },
     "execution_count": 5,
     "metadata": {},
     "output_type": "execute_result"
    }
   ],
   "source": [
    "ratings[\"rating\"].median()"
   ]
  },
  {
   "cell_type": "code",
   "execution_count": 6,
   "metadata": {},
   "outputs": [
    {
     "data": {
      "text/plain": [
       "3.5304452124932677"
      ]
     },
     "execution_count": 6,
     "metadata": {},
     "output_type": "execute_result"
    }
   ],
   "source": [
    "ratings[\"rating\"].mean()"
   ]
  },
  {
   "cell_type": "code",
   "execution_count": 7,
   "metadata": {},
   "outputs": [
    {
     "data": {
      "image/png": "[encoded data removed]",
      "text/plain": [
       "<Figure size 432x288 with 1 Axes>"
      ]
     },
     "metadata": {
      "needs_background": "light"
     },
     "output_type": "display_data"
    }
   ],
   "source": [
    "# Histogramme des notes\n",
    "p = ratings[\"rating\"].plot(kind='hist', edgecolor='white', linewidth=1.5, color='#8B0000')\n",
    " \n",
    "p.patches[4].set_facecolor(\"#787272\") # Gris\n",
    "p.patches[5].set_facecolor(\"#787272\")\n",
    "p.patches[6].set_facecolor(\"#787272\")\n",
    "\n",
    "p.patches[7].set_facecolor(\"#175c08\") # Vert\n",
    "p.patches[8].set_facecolor(\"#175c08\")\n",
    "p.patches[9].set_facecolor(\"#175c08\")\n",
    "\n",
    "plt.title(\"Répartition des notes\")\n",
    "plt.xlabel(\"Note attribuée entre 0.5 et 5 sur 5\")\n",
    "plt.ylabel(\"Nombre de notes (en millions)\")\n",
    "plt.show()"
   ]
  },
  {
   "cell_type": "code",
   "execution_count": 8,
   "metadata": {},
   "outputs": [
    {
     "data": {
      "text/html": [
       "<div>\n",
       "<style scoped>\n",
       "    .dataframe tbody tr th:only-of-type {\n",
       "        vertical-align: middle;\n",
       "    }\n",
       "\n",
       "    .dataframe tbody tr th {\n",
       "        vertical-align: top;\n",
       "    }\n",
       "\n",
       "    .dataframe thead th {\n",
       "        text-align: right;\n",
       "    }\n",
       "</style>\n",
       "<table border=\"1\" class=\"dataframe\">\n",
       "  <thead>\n",
       "    <tr style=\"text-align: right;\">\n",
       "      <th></th>\n",
       "      <th>userId</th>\n",
       "      <th>title</th>\n",
       "      <th>tag</th>\n",
       "      <th>relevance</th>\n",
       "    </tr>\n",
       "  </thead>\n",
       "  <tbody>\n",
       "    <tr>\n",
       "      <td>0</td>\n",
       "      <td>14</td>\n",
       "      <td>Braveheart (1995)</td>\n",
       "      <td>epic</td>\n",
       "      <td>0.97875</td>\n",
       "    </tr>\n",
       "    <tr>\n",
       "      <td>11854</td>\n",
       "      <td>266735</td>\n",
       "      <td>Inception (2010)</td>\n",
       "      <td>thriller</td>\n",
       "      <td>0.76200</td>\n",
       "    </tr>\n",
       "    <tr>\n",
       "      <td>18957</td>\n",
       "      <td>120542</td>\n",
       "      <td>Cloud Atlas (2012)</td>\n",
       "      <td>dystopia</td>\n",
       "      <td>0.89950</td>\n",
       "    </tr>\n",
       "    <tr>\n",
       "      <td>254128</td>\n",
       "      <td>257925</td>\n",
       "      <td>No Man's Land (2001)</td>\n",
       "      <td>complex characters</td>\n",
       "      <td>0.46925</td>\n",
       "    </tr>\n",
       "    <tr>\n",
       "      <td>389874</td>\n",
       "      <td>279588</td>\n",
       "      <td>Tomorrow Never Dies (1997)</td>\n",
       "      <td>action</td>\n",
       "      <td>0.98500</td>\n",
       "    </tr>\n",
       "  </tbody>\n",
       "</table>\n",
       "</div>"
      ],
      "text/plain": [
       "        userId                       title                 tag  relevance\n",
       "0           14           Braveheart (1995)                epic    0.97875\n",
       "11854   266735            Inception (2010)            thriller    0.76200\n",
       "18957   120542          Cloud Atlas (2012)            dystopia    0.89950\n",
       "254128  257925        No Man's Land (2001)  complex characters    0.46925\n",
       "389874  279588  Tomorrow Never Dies (1997)              action    0.98500"
      ]
     },
     "execution_count": 8,
     "metadata": {},
     "output_type": "execute_result"
    }
   ],
   "source": [
    "# Fusion des fichiers en rapport avec les tags\n",
    "tags_origin = pd.read_csv(\"tags.csv\")\n",
    "convert_tags = pd.read_csv(\"genome-tags.csv\")\n",
    "merged = tags_origin.merge(convert_tags)\n",
    "score_tags = pd.read_csv(\"genome-scores.csv\")\n",
    "tags = merged.merge(score_tags)\n",
    "\n",
    "# Fusion avec les films\n",
    "movies = pd.read_csv(\"movies.csv\")\n",
    "tags = tags.merge(movies)\n",
    "\n",
    "# Vérification (5 lignes prises au hasard)\n",
    "tags.iloc[[0,11854,18957,254128,389874],[0,6,2,5]]"
   ]
  },
  {
   "cell_type": "code",
   "execution_count": 9,
   "metadata": {},
   "outputs": [
    {
     "data": {
      "text/plain": [
       "0.8865000000000001"
      ]
     },
     "execution_count": 9,
     "metadata": {},
     "output_type": "execute_result"
    }
   ],
   "source": [
    "tags[\"relevance\"].median()"
   ]
  },
  {
   "cell_type": "code",
   "execution_count": 10,
   "metadata": {},
   "outputs": [
    {
     "data": {
      "text/plain": [
       "0.7942250600151449"
      ]
     },
     "execution_count": 10,
     "metadata": {},
     "output_type": "execute_result"
    }
   ],
   "source": [
    "tags[\"relevance\"].mean()"
   ]
  },
  {
   "cell_type": "code",
   "execution_count": 11,
   "metadata": {},
   "outputs": [
    {
     "data": {
      "image/png": "[encoded data removed]",
      "text/plain": [
       "<Figure size 1080x360 with 1 Axes>"
      ]
     },
     "metadata": {
      "needs_background": "light"
     },
     "output_type": "display_data"
    }
   ],
   "source": [
    "# Histogramme montrant la pertinence des tags\n",
    "plt.figure(figsize=(15,5)) # Taille du graph\n",
    "p = tags[\"relevance\"].plot(kind='hist', edgecolor='white', linewidth=1.5, bins=50, color='#8B0000')\n",
    " \n",
    "for bar in range(45,50):\n",
    "    p.patches[bar].set_facecolor(\"#175c08\") # Vert\n",
    "\n",
    "plt.title(\"Pertinence des tags\")\n",
    "plt.xlabel(\"Pertinence (entre 0 et 1)\")\n",
    "plt.ylabel(\"Nombre de tags\")\n",
    "plt.show()"
   ]
  },
  {
   "cell_type": "code",
   "execution_count": 12,
   "metadata": {},
   "outputs": [],
   "source": [
    "# On ne garde que les tags les plus pertinents\n",
    "tags = tags[tags[\"relevance\"]>0.90]"
   ]
  },
  {
   "cell_type": "code",
   "execution_count": 14,
   "metadata": {},
   "outputs": [
    {
     "name": "stderr",
     "output_type": "stream",
     "text": [
      "C:\\Users\\simon\\Anaconda3\\lib\\site-packages\\ipykernel_launcher.py:2: DeprecationWarning: time.clock has been deprecated in Python 3.3 and will be removed from Python 3.8: use time.perf_counter or time.process_time instead\n",
      "  \n"
     ]
    },
    {
     "name": "stdout",
     "output_type": "stream",
     "text": [
      "297.692523\n",
      "[1, 'Weird Science (1985)', 22]\n",
      "[2, 'American Graffiti (1973)', 15]\n",
      "[3, 'Saving Private Ryan (1998)', 29]\n",
      "[4, 'Reservoir Dogs (1992)', 51]\n",
      "[5, 'Pulp Fiction (1994)', 79]\n",
      "[6, 'Pulp Fiction (1994)', 79]\n",
      "[7, 'Munich (2005)', 25]\n",
      "[8, 'Star Wars: Episode IV - A New Hope (1977)', 68]\n",
      "[9, 'American Beauty (1999)', 35]\n",
      "[10, 'Star Wars: Episode IV - A New Hope (1977)', 69]\n"
     ]
    },
    {
     "name": "stderr",
     "output_type": "stream",
     "text": [
      "C:\\Users\\simon\\Anaconda3\\lib\\site-packages\\ipykernel_launcher.py:58: DeprecationWarning: time.clock has been deprecated in Python 3.3 and will be removed from Python 3.8: use time.perf_counter or time.process_time instead\n"
     ]
    }
   ],
   "source": [
    "import time\n",
    "tic = time.clock()\n",
    "limit = 10 # On ne prend que les premiers utilisateurs pour éviter un temps de traitement trop long\n",
    "ratings_cut = ratings[ratings[\"userId\"] <= limit]\n",
    "\n",
    "predictions = []\n",
    "\n",
    "for user in pd.unique(ratings_cut[\"userId\"]): \n",
    "    films_deja_vus = ratings_cut[ratings_cut['userId'] == user]\n",
    "    films_liked = films_deja_vus[films_deja_vus['rating'] >= 4][\"movieId\"]\n",
    "    films_disliked = films_deja_vus[films_deja_vus['rating'] <= 2][\"movieId\"]\n",
    "    \n",
    "    deja_vus = tags.merge(films_deja_vus['movieId'])\n",
    "    liked = deja_vus.merge(films_liked)\n",
    "    disliked = deja_vus.merge(films_disliked)\n",
    "    \n",
    "    genres_liked = pd.unique(liked[\"genres\"])\n",
    "    genres_disliked = pd.unique(disliked[\"genres\"])\n",
    "    \n",
    "    tags_liked = pd.unique(liked[\"tagId\"])\n",
    "    tags_disliked = pd.unique(disliked[\"tagId\"])\n",
    "    \n",
    "    prediction = [user,\"Données insuffisantes pour conseiller un film\",0]\n",
    "    \n",
    "\n",
    "    for movie in pd.unique(tags['movieId']): \n",
    "        \n",
    "        df_one_movie = tags[tags['movieId'] == movie].reset_index(drop=True)\n",
    "        \n",
    "        points = 0\n",
    "\n",
    "        # GENRE    \n",
    "        if df_one_movie.at[0,'genres'] in genres_liked:\n",
    "            points += 5\n",
    "        if df_one_movie.at[0,'genres'] in genres_disliked:\n",
    "            points -= 3\n",
    "        \n",
    "        # TAGS\n",
    "        res = 0\n",
    "        for tag in pd.unique(df_one_movie['tagId']):\n",
    "            if tag in tags_liked:\n",
    "                res += 2\n",
    "            if tag in tags_disliked:\n",
    "                res -= 1\n",
    "        points += res\n",
    "\n",
    "\n",
    "        \n",
    "        if points > prediction[2] and movie not in films_deja_vus[\"movieId\"]:\n",
    "            prediction = [user, pd.unique(df_one_movie[\"title\"])[0], points]\n",
    "        elif points == prediction[2] and random.randint(0, 5) == 1:\n",
    "            prediction = [user, pd.unique(df_one_movie[\"title\"])[0], points]\n",
    "                            \n",
    "    predictions.append(prediction)\n",
    "\n",
    "tac = time.clock()\n",
    "print(tac-tic)    \n",
    "\n",
    "for prediction in predictions:\n",
    "    print(prediction)\n",
    "\n",
    "\n",
    "    "
   ]
  }
 ],
 "metadata": {
  "kernelspec": {
   "display_name": "Python 3",
   "language": "python",
   "name": "python3"
  },
  "language_info": {
   "codemirror_mode": {
    "name": "ipython",
    "version": 3
   },
   "file_extension": ".py",
   "mimetype": "text/x-python",
   "name": "python",
   "nbconvert_exporter": "python",
   "pygments_lexer": "ipython3",
   "version": "3.7.4"
  }
 },
 "nbformat": 4,
 "nbformat_minor": 2
}
